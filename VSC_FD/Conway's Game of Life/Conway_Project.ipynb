{
 "cells": [
  {
   "cell_type": "code",
   "execution_count": 40,
   "metadata": {},
   "outputs": [],
   "source": [
    "import pygame as pg\n",
    "import numpy as np\n",
    "import random"
   ]
  },
  {
   "cell_type": "code",
   "execution_count": 41,
   "metadata": {},
   "outputs": [],
   "source": [
    "pg.init() # pygaem 초기화\n",
    "size = [800, 800] # 화면 크기 설정\n",
    "cell_size = [10, 10] #세포 한 칸 크기 설정\n",
    "\n",
    "width = int(size[0]/cell_size[0]) # x축 격자 개수 슬라이싱\n",
    "height= int(size[1]/cell_size[1]) #  y축 격자 개수 슬라이싱\n",
    "\n",
    "devolu_grid = np.zeros((width,height))\n",
    "evolu_grid = np.copy((devolu_grid))"
   ]
  },
  {
   "cell_type": "code",
   "execution_count": 42,
   "metadata": {},
   "outputs": [],
   "source": [
    "def neighbour_cells (x, y):\n",
    "    neighbour_cells_count = 0\n",
    "    neighbours = [(x-1,y-1), (x-1,y), (x-1,y+1), (x,y-1), (x,y+1), (x+1,y-1), (x+1,y), (x+1,y+1)]\n",
    "    for rx,ry in neighbours:\n",
    "        if rx >= 0 & ry >= 0:\n",
    "            try:  \n",
    "                if devolu_grid[rx][ry] == 1:\n",
    "                    neighbour_cells_count += 1\n",
    "                elif devolu_grid[rx][ry] == 0:\n",
    "                    neighbour_cells_count += 0\n",
    "                else:\n",
    "                    print(\"#오류# 0, 1 이외의 값이 행: \", rx+1, \"열: \",ry+1, \"에 할당되었습니다.\")\n",
    "            except:\n",
    "                pass\n",
    "            \n",
    "    return neighbour_cells_count\n",
    "\n",
    "def draw_cells (x,y):\n",
    "    pg.draw.rect(screen,(208, 251, 91),(x, y, cell_size[0], cell_size[1]))\n",
    "\n",
    "for rrow in range(width): #\n",
    "    for rcol in range(height):\n",
    "        devolu_grid[rrow][rcol] = random.randint(0,1)"
   ]
  },
  {
   "cell_type": "code",
   "execution_count": 43,
   "metadata": {},
   "outputs": [],
   "source": [
    "screen = pg.display.set_mode(size) # \n",
    "pg.display.set_caption(\"Conway's Life Game\") # 창 이름을 보임\n",
    "pygame_time = pg.time.Clock() # 시간 설정을 위함(초기화 시 기본값 0)\n",
    "value = True"
   ]
  },
  {
   "cell_type": "code",
   "execution_count": 44,
   "metadata": {},
   "outputs": [],
   "source": [
    "while value:\n",
    "    evolu_grid = np.copy((devolu_grid))\n",
    "    screen.fill((0, 0, 0))\n",
    "    \n",
    "    \n",
    "    \n",
    "    for row in range(width): # 행을 할당\n",
    "        for column in range(height): #열을 할당\n",
    "            if devolu_grid[row][column] == 1:\n",
    "                draw_cells(row * cell_size[0], column * cell_size[1])\n",
    "                pre_neighbours = neighbour_cells(row, column)\n",
    "                if pre_neighbours == 2 or pre_neighbours == 3 : # 변수 제어\n",
    "                    evolu_grid[row][column] = 1\n",
    "                else:\n",
    "                    evolu_grid[row][column] = 0\n",
    "                    \n",
    "            elif devolu_grid[row][column] == 0:\n",
    "                pre_neighbours = neighbour_cells(row, column)\n",
    "                if pre_neighbours == 3: # 변수 제어\n",
    "                    draw_cells(row * cell_size[0], column * cell_size[1])\n",
    "                    evolu_grid[row][column] = 1\n",
    "                else: \n",
    "                    evolu_grid[row][column] = 0\n",
    "                    \n",
    "    devolu_grid = np.copy(evolu_grid)\n",
    "                    \n",
    "    for event in pg.event.get(): # 종료를 위함\n",
    "        if event.type == pg.QUIT:\n",
    "            value = False\n",
    "            \n",
    "    pg.display.flip()\n",
    "    pygame_time.tick(10)\n",
    "    \n",
    "   \n",
    "    \n",
    "pg.quit()"
   ]
  },
  {
   "cell_type": "code",
   "execution_count": null,
   "metadata": {},
   "outputs": [],
   "source": []
  }
 ],
 "metadata": {
  "kernelspec": {
   "display_name": "Python 3",
   "language": "python",
   "name": "python3"
  },
  "language_info": {
   "codemirror_mode": {
    "name": "ipython",
    "version": 3
   },
   "file_extension": ".py",
   "mimetype": "text/x-python",
   "name": "python",
   "nbconvert_exporter": "python",
   "pygments_lexer": "ipython3",
   "version": "3.12.2"
  }
 },
 "nbformat": 4,
 "nbformat_minor": 2
}
